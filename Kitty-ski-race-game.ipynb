{
 "cells": [
  {
   "cell_type": "code",
   "execution_count": 68,
   "id": "0e8631c0",
   "metadata": {},
   "outputs": [],
   "source": [
    "import random\n",
    "import numpy as np\n",
    "import matplotlib.pyplot as plt"
   ]
  },
  {
   "cell_type": "code",
   "execution_count": 32,
   "id": "4e612223",
   "metadata": {},
   "outputs": [],
   "source": [
    "gameboard = {key: \"\" for key in range(28)}\n",
    "gameboard[0] = 'START'\n",
    "gameboard[2] = ('Move forward 1', 1)\n",
    "gameboard[9] = 'Red Mitten'\n",
    "gameboard[11] = ('Move forwards 2', 2)\n",
    "gameboard[14] = 'Blue Mitten'\n",
    "gameboard[16] = ('Move back 1', -1)\n",
    "gameboard[20] = ('Move ahead 2', 2)\n",
    "gameboard[25] = 'Finish line!'\n",
    "\n",
    "class kitty_ski_game:\n",
    "    die = [1,2,3,'blue mitten', 'red mitten', 0]\n",
    "    board = gameboard\n",
    "    \n",
    "    def __init__(self):\n",
    "        self.kitties = {'Mona': 0, 'CatCat': 0}\n",
    "        self.turn = 0\n",
    "        self.winner = None\n",
    "        \n",
    "    def take_turn(self):\n",
    "        \n",
    "        #whose turn is it?\n",
    "        cat = 'Mona' if self.turn % 2 == 0 else 'CatCat'\n",
    "            \n",
    "        #role\n",
    "        role = random.choice(self.die)\n",
    "        \n",
    "        #move your cat\n",
    "        if isinstance(role, int):\n",
    "            self.kitties[cat] += role\n",
    "        elif role == 'blue mitten':\n",
    "            self.kitties[cat] = 14\n",
    "        elif role == 'red mitten':\n",
    "            self.kitties[cat] = 9\n",
    "            \n",
    "        #check your cat's square\n",
    "        square_val = gameboard[self.kitties[cat]]\n",
    "        if isinstance(square_val, tuple):\n",
    "            self.kitties[cat] += square_val[1]\n",
    "    \n",
    "        #print(self.turn, cat, 'Roles:', role) \n",
    "        #print(' ', self.kitties)    \n",
    "                \n",
    "        #end game?\n",
    "        if self.kitties[cat] >= 25:\n",
    "            #print(\"Winner!!!! \")\n",
    "            self.winner = cat\n",
    "        else: self.turn += 1\n",
    "k = kitty_ski_game()\n",
    "for i in range(10):\n",
    "    k.take_turn()"
   ]
  },
  {
   "cell_type": "code",
   "execution_count": 29,
   "id": "853217c9",
   "metadata": {},
   "outputs": [],
   "source": [
    "def play_kitty_ski_game():\n",
    "    game = kitty_ski_game()\n",
    "    while True:\n",
    "        game.take_turn()\n",
    "        if game.winner is not None:\n",
    "            break\n",
    "    result = {'turns': game.turn, 'winner': game.winner, 'score': game.kitties}\n",
    "    return result"
   ]
  },
  {
   "cell_type": "code",
   "execution_count": 50,
   "id": "a5425e7d",
   "metadata": {},
   "outputs": [
    {
     "data": {
      "text/plain": [
       "{'turns': 35, 'winner': 'CatCat', 'score': {'Mona': 9, 'CatCat': 26}}"
      ]
     },
     "execution_count": 50,
     "metadata": {},
     "output_type": "execute_result"
    }
   ],
   "source": [
    "play_kitty_ski_game()"
   ]
  },
  {
   "cell_type": "code",
   "execution_count": 89,
   "id": "7d298a04",
   "metadata": {},
   "outputs": [],
   "source": [
    "turn_nums = []\n",
    "for i in range(10000):\n",
    "    game = play_kitty_ski_game()\n",
    "    t = game['turns']\n",
    "    turn_nums.append(t)"
   ]
  },
  {
   "cell_type": "code",
   "execution_count": 90,
   "id": "49416dea",
   "metadata": {},
   "outputs": [
    {
     "data": {
      "text/plain": [
       "(69.0291, 52.0)"
      ]
     },
     "execution_count": 90,
     "metadata": {},
     "output_type": "execute_result"
    }
   ],
   "source": [
    "np.mean(turn_nums), np.median(turn_nums)"
   ]
  },
  {
   "cell_type": "code",
   "execution_count": 102,
   "id": "e964d6be",
   "metadata": {},
   "outputs": [
    {
     "data": {
      "image/png": "[encoded data removed]",
      "text/plain": [
       "<Figure size 864x504 with 1 Axes>"
      ]
     },
     "metadata": {
      "needs_background": "light"
     },
     "output_type": "display_data"
    }
   ],
   "source": [
    "plt.figure(figsize=(12, 7))\n",
    "plt.hist(turn_nums, bins=50,color='grey')\n",
    "plt.xlabel('Number of Turns')\n",
    "plt.ylabel('Number of Games')\n",
    "plt.title('How long does it take to play kitty ski race?')\n",
    "plt.xticks(range(0, 451, 50)) \n",
    "plt.show()"
   ]
  }
 ],
 "metadata": {
  "kernelspec": {
   "display_name": "Python 3 (ipykernel)",
   "language": "python",
   "name": "python3"
  },
  "language_info": {
   "codemirror_mode": {
    "name": "ipython",
    "version": 3
   },
   "file_extension": ".py",
   "mimetype": "text/x-python",
   "name": "python",
   "nbconvert_exporter": "python",
   "pygments_lexer": "ipython3",
   "version": "3.8.10"
  }
 },
 "nbformat": 4,
 "nbformat_minor": 5
}
